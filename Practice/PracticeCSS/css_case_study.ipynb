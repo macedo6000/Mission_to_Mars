{
 "cells": [
  {
   "cell_type": "code",
   "execution_count": 1,
   "id": "12f320f4",
   "metadata": {},
   "outputs": [],
   "source": [
    "from bs4 import BeautifulSoup as soup"
   ]
  },
  {
   "cell_type": "code",
   "execution_count": 2,
   "id": "ad657978",
   "metadata": {},
   "outputs": [],
   "source": [
    "# Use the Beautiful Soup library to parse HTML code\n",
    "html = \"\"\"\n",
    "<!DOCTYPE html>\n",
    "<html lang=\"en\">\n",
    "\n",
    "<head>\n",
    "    <meta charset=\"UTF-8\">\n",
    "    <meta http-equiv=\"X-UA-Compatible\" content=\"IE=edge\">\n",
    "    <meta name=\"viewport\" content=\"width=device-width, initial-scale=1.0\">\n",
    "    <title>Document</title>\n",
    "</head>\n",
    "\n",
    "<style>\n",
    "    .even {\n",
    "        color: blue;\n",
    "    }\n",
    "\n",
    "    .odd {\n",
    "        color: green;\n",
    "    }\n",
    "</style>\n",
    "\n",
    "<body>\n",
    "    <div>\n",
    "        <p class=\"odd\" id=\"first\">First</p>\n",
    "        <p class=\"even\" id=\"second\">Second</p>\n",
    "        <p class=\"odd\" id=\"third\">Third</p>\n",
    "    </div>\n",
    "\n",
    "    <div>\n",
    "        <p class=\"even\" id=\"fourth\">Fourth</p>\n",
    "        <p class=\"odd\" id=\"fifth\">Fifth</p>\n",
    "        <p class=\"even\" id=\"sixth\">Sixth</p>\n",
    "    </div>\n",
    "</body>\n",
    "\n",
    "</html>\n",
    "\"\"\""
   ]
  },
  {
   "cell_type": "code",
   "execution_count": 3,
   "id": "b14e35ce",
   "metadata": {},
   "outputs": [],
   "source": [
    "# Convert the HTML string into a Beautiful Soup object.\n",
    "html_soup = soup(html, 'html.parser')"
   ]
  },
  {
   "cell_type": "code",
   "execution_count": 4,
   "id": "fd1708f1",
   "metadata": {},
   "outputs": [],
   "source": [
    "# Scrape all the paragraph elements that belong to the odd class.\n",
    "odds = html_soup.find_all(\"p\", class_=\"odd\")"
   ]
  },
  {
   "cell_type": "code",
   "execution_count": 5,
   "id": "2c1ef00f",
   "metadata": {},
   "outputs": [
    {
     "name": "stdout",
     "output_type": "stream",
     "text": [
      "<p class=\"odd\" id=\"first\">First</p>\n",
      "<p class=\"odd\" id=\"third\">Third</p>\n",
      "<p class=\"odd\" id=\"fifth\">Fifth</p>\n"
     ]
    }
   ],
   "source": [
    "# Iterate through the results and display them by using a for loop\n",
    "for odd in odds:\n",
    "    print(odd)"
   ]
  },
  {
   "cell_type": "code",
   "execution_count": 45,
   "id": "328905bd",
   "metadata": {},
   "outputs": [
    {
     "name": "stdout",
     "output_type": "stream",
     "text": [
      "First\n",
      "Second\n",
      "Third\n",
      "Fourth\n",
      "Fifth\n",
      "Sixth\n"
     ]
    }
   ],
   "source": [
    "# Use a for loop to print only the text of each paragraph\n",
    "texts = html_soup.find_all(\"p\")\n",
    "\n",
    "for p in texts:\n",
    "    print(p.text)"
   ]
  },
  {
   "cell_type": "code",
   "execution_count": 46,
   "id": "bac2ed24",
   "metadata": {},
   "outputs": [
    {
     "name": "stdout",
     "output_type": "stream",
     "text": [
      "First\n"
     ]
    }
   ],
   "source": [
    "# Scrape the text from a paragraph element that has an id of first.\n",
    "first = html_soup.find(\"p\", id=\"first\")\n",
    "print(first.text)"
   ]
  },
  {
   "cell_type": "code",
   "execution_count": null,
   "id": "002944cd",
   "metadata": {},
   "outputs": [],
   "source": [
    "# In the preceding code, the logic is much the same as before. \n",
    "# But, we use the find method instead of find_all and the id argument instead of class_."
   ]
  }
 ],
 "metadata": {
  "kernelspec": {
   "display_name": "Python 3 (ipykernel)",
   "language": "python",
   "name": "python3"
  },
  "language_info": {
   "codemirror_mode": {
    "name": "ipython",
    "version": 3
   },
   "file_extension": ".py",
   "mimetype": "text/x-python",
   "name": "python",
   "nbconvert_exporter": "python",
   "pygments_lexer": "ipython3",
   "version": "3.9.12"
  }
 },
 "nbformat": 4,
 "nbformat_minor": 5
}
